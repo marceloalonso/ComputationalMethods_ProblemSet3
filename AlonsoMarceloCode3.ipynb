{
 "cells": [
  {
   "cell_type": "markdown",
   "metadata": {},
   "source": [
    "# PROBLEM SET 3\n",
    "\n",
    "### Computational Methods in Economics\n",
    "\n",
    "### Marcelo Alonso\n",
    "\n",
    "##### AI USE: Eu utilizei o ChatGPT para me auxiliar na **organização e otimização do código**, no **reconhecimento da sintaxe das funções do Julia** e na **correção ortográfica/concordância** das minhas respostas. \n"
   ]
  },
  {
   "cell_type": "code",
   "execution_count": null,
   "metadata": {},
   "outputs": [],
   "source": [
    "using Pkg\n",
    "\n",
    "# 1) Ativa o ambiente local do projeto usando o diretório onde o script está salvo (relative path)\n",
    "Pkg.activate(@__DIR__)\n",
    "\n",
    "# 2) Resolve as dependências do ambiente (confere se as versões dos pacotes são compatíveis)\n",
    "Pkg.resolve()\n",
    "\n",
    "# 3) Instancia o ambiente, instalando os pacotes conforme definido nos arquivos Project.toml e Manifest.toml\n",
    "Pkg.instantiate()\n",
    "\n",
    "# 4) Define a lista dos pacotes necessários para o projeto\n",
    "packages = [\n",
    "    \"Plots\",\n",
    "    \"Interpolations\",\n",
    "    \"DataFrames\",\n",
    "    \"DataInterpolations\",\n",
    "    \"Random\",\n",
    "    \"Distributions\",\n",
    "    \"BenchmarkTools\",\n",
    "    \"Roots\",\n",
    "    \"Optim\",\n",
    "    \"NLopt\",\n",
    "    \"OptimizationNLopt\",\n",
    "    \"JuMP\",\n",
    "    \"Ipopt\",\n",
    "    \"FastGaussQuadrature\",\n",
    "    \"Statistics\"\n",
    "]\n",
    "\n",
    "# 5) Adiciona os pacotes da lista, instalando-os se ainda não estiverem presentes\n",
    "Pkg.add(packages)\n"
   ]
  },
  {
   "cell_type": "markdown",
   "metadata": {},
   "source": [
    "# QUESTION 1\n",
    "\n",
    "\n",
    "### a) We are interested in computing $E[X]$ using numerical integration. What is the value of   $E[X]$ using Gauss-Hermite quadrature with $n = 3$ nodes? And with $n = 5$ nodes? And with   $n = 10$ nodes?\n",
    "\n",
    "### RESPOSTA DO ITEM A:\n",
    "\n",
    "\n",
    "Queremos calcular numericamente a esperança de uma variável normal padrão:\n",
    "\n",
    "$ \\mathbb{E}[X] = \\int_{-\\infty}^{\\infty} x \\cdot \\frac{1}{\\sqrt{2\\pi}} e^{-x^2/2} \\, dx $\n",
    "\n",
    "Como a quadratura de Gauss-Hermite aproxima integrais da forma:\n",
    "\n",
    "$ \\int_{-\\infty}^{\\infty} f(t) \\cdot e^{-t^2} \\, dt \\approx \\sum_{i=1}^{n} w_i f(x_i) $,\n",
    "\n",
    "fazemos a mudança de variável $x = \\sqrt{2}t$, com $dx = \\sqrt{2}dt$, para reescrever a esperança como:\n",
    "\n",
    "$ \\mathbb{E}[X] = \\frac{\\sqrt{2}}{\\sqrt{\\pi}} \\int_{-\\infty}^{\\infty} t \\cdot e^{-t^2} \\, dt $\n",
    "\n",
    "Essa forma é compatível com a quadratura de Gauss-Hermite, que usamos no código com:\n",
    "\n",
    "$ \\mathbb{E}[X] \\approx \\frac{1}{\\sqrt{\\pi}} \\sum_{i=1}^{n} w_i \\cdot (\\sqrt{2} x_i) $\n",
    "\n",
    "\n",
    "### Conforme aumentamos o número de pontos nos aproximamos cada vez mais do 0, de modo que: \n",
    "\n",
    "### Usando n = 3 pontos, E[X] ≈ -8.1428914568091665e-16\n",
    "\n",
    "### Usando n = 5 pontos, E[X] ≈ -6.811841891753822e-16\n",
    "\n",
    "### Usando n = 10 pontos, E[X] ≈ 7.585025094984501e-18\n"
   ]
  },
  {
   "cell_type": "code",
   "execution_count": 6,
   "metadata": {},
   "outputs": [
    {
     "name": "stdout",
     "output_type": "stream",
     "text": [
      "Usando n = 3 pontos, E[X] ≈ -8.1428914568091665e-16\n",
      "Usando n = 5 pontos, E[X] ≈ -6.811841891753822e-16\n",
      "Usando n = 10 pontos, E[X] ≈ 7.585025094984501e-18\n"
     ]
    }
   ],
   "source": [
    "using FastGaussQuadrature\n",
    "\n",
    "\n",
    "function gauss_hermite_EX(n)\n",
    "    \n",
    "    x, w = gausshermite(n)\n",
    "\n",
    "    return (1 / sqrt(pi)) * sum(w .* (sqrt(2) .* x))\n",
    "end\n",
    "\n",
    "for n in (3, 5, 10)\n",
    "    valor_aproximado = gauss_hermite_EX(n)\n",
    "    println(\"Usando n = $n pontos, E[X] ≈ $valor_aproximado\")\n",
    "end\n"
   ]
  },
  {
   "cell_type": "markdown",
   "metadata": {},
   "source": [
    "### b) What wold be the estimated value of $E[X]$ using Monte Carlo integration with $n = 10^2$   simulations? And with $n = 10^4$ simulations? And with $n = 10^6$ simulations?\n",
    "\n",
    "### RESPOSTA DO ITEM B:\n",
    "\n",
    "### O método gera N amostras com média 0 e variância 1 e depois tira a média de todas essas amostras. Assim como no item a, conforme aumentamos o número de simulações nos aproximamos cada vez mais do 0:\n",
    "\n",
    "### Usando n = 100, estimativa de E[X] ≈ 0.06581665359085116\n",
    "\n",
    "### Usando n = 10000, estimativa de E[X] ≈ -0.002516924702179371\n",
    "\n",
    "### Usando n = 1000000, estimativa de E[X] ≈ 0.0012966637350114894"
   ]
  },
  {
   "cell_type": "code",
   "execution_count": 10,
   "metadata": {},
   "outputs": [
    {
     "name": "stdout",
     "output_type": "stream",
     "text": [
      "Usando n = 100, estimativa de E[X] ≈ 0.06581665359085116\n",
      "Usando n = 10000, estimativa de E[X] ≈ -0.002516924702179371\n",
      "Usando n = 1000000, estimativa de E[X] ≈ 0.0012966637350114894\n"
     ]
    }
   ],
   "source": [
    "using Random, Statistics\n",
    "\n",
    "\n",
    "function mc_estimate_mean(N::Int)\n",
    "    # Gera N amostras de N(0,1)\n",
    "    samples = randn(N)\n",
    "    # Retorna a média das amostras\n",
    "    return mean(samples)\n",
    "end\n",
    "\n",
    "# Semente reprodutibilidade\n",
    "Random.seed!(1234)\n",
    "\n",
    "# Lista dos tamanhos de amostra\n",
    "ns = [10^2, 10^4, 10^6]\n",
    "\n",
    "for n in ns\n",
    "    estimativa = mc_estimate_mean(n)\n",
    "    println(\"Usando n = $n, estimativa de E[X] ≈ $estimativa\")\n",
    "end\n"
   ]
  },
  {
   "cell_type": "markdown",
   "metadata": {},
   "source": [
    "### c) Now we are interested in computing $E[\\max(1, X)]$. What is the analytical result? Hint: use   the truncated normal distribution.\n",
    "\n",
    "### RESPOSTA DO ITEM C:\n",
    "\n",
    "\n",
    "\n",
    "Para $X \\sim \\mathcal{N}(0,1)$, note que:\n",
    "\n",
    "- Se $X \\le 1$, então $\\max(1, X) = 1$;\n",
    "- Se $X > 1$, então $\\max(1, X) = X$.\n",
    "\n",
    "Usando a fórmula de esperança condicional:\n",
    "\n",
    "$ \\mathbb{E}[\\max(1, X)] = 1 \\cdot P(X \\le 1) + \\mathbb{E}[X \\mid X > 1] \\cdot P(X > 1) $\n",
    "\n",
    "Sabemos que:\n",
    "\n",
    "- $P(X \\le 1) = \\Phi(1)$  \n",
    "- $P(X > 1) = 1 - \\Phi(1)$  \n",
    "- $\\mathbb{E}[X \\mid X > 1] = \\dfrac{\\phi(1)}{1 - \\Phi(1)}$\n",
    "\n",
    "Substituindo tudo na fórmula:\n",
    "\n",
    "$ \\mathbb{E}[\\max(1, X)] = \\Phi(1) + (1 - \\Phi(1)) \\cdot \\dfrac{\\phi(1)}{1 - \\Phi(1)} = \\Phi(1) + \\phi(1) $\n",
    "\n",
    "Com valores numéricos:\n",
    "\n",
    "- $\\Phi(1) \\approx 0.8413$\n",
    "- $\\phi(1) \\approx 0.24197$\n",
    "\n",
    "Portanto:\n",
    "\n",
    "$ \\mathbb{E}[\\max(1, X)] \\approx 0.8413 + 0.2420 = 1.0833 $\n"
   ]
  },
  {
   "cell_type": "code",
   "execution_count": 14,
   "metadata": {},
   "outputs": [
    {
     "name": "stdout",
     "output_type": "stream",
     "text": [
      "Normal truncada = 1.0833154705876862\n",
      "Monte Carlo     = 1.0837295253972041\n"
     ]
    }
   ],
   "source": [
    "using Distributions, Statistics, Random\n",
    "\n",
    "\n",
    "\n",
    "# 1) Usando distribuição normal truncada\n",
    "\n",
    "function E_max_1_truncdist()\n",
    "    # Probabilidade de X ≤ 1\n",
    "    p = cdf(Normal(), 1)          # Φ(1)\n",
    "    # Definimos a Normal truncada de [1, ∞)\n",
    "    T = truncated(Normal(), lower=1)\n",
    "    # E[X | X > 1]\n",
    "    E_cond = mean(T)\n",
    "    # Combinação das duas partes\n",
    "    return p*1 + (1 - p)*E_cond\n",
    "end\n",
    "\n",
    "\n",
    "# 2) Via Monte Carlo\n",
    "\n",
    "function E_max_1_montecarlo(N = 10^6)\n",
    "    # Gera N amostras de N(0,1)\n",
    "    x = randn(N)\n",
    "    # Calcula a média de max(1, x)\n",
    "    return mean(max(1, xi) for xi in x)\n",
    "end\n",
    "\n",
    "# Para reprodutibilidade\n",
    "Random.seed!(1234)\n",
    "\n",
    "\n",
    "# 1) Normal truncada\n",
    "println(\"Normal truncada = \", E_max_1_truncdist())\n",
    "\n",
    "# 2) Monte Carlo (N = 10^6)\n",
    "println(\"Monte Carlo     = \", E_max_1_montecarlo())\n"
   ]
  },
  {
   "cell_type": "markdown",
   "metadata": {},
   "source": [
    "### d) Using numerical methods, how do your answers from a)-b) change when considering the expectation of $\\max(1, X)$ instead of $X$?\n",
    "\n",
    "### RESPOSTA DO ITEM D:\n",
    "\n",
    "\n",
    "\n",
    "#### Gauss-Hermite Quadrature\n",
    "\n",
    "A esperança que queremos calcular tem a forma:\n",
    "\n",
    "$ \\mathbb{E}[\\max(1, X)] = \\int_{-\\infty}^{\\infty} \\max(1, x) \\cdot \\phi(x) dx $\n",
    "\n",
    "Com isso, reescrevemos a esperança como:\n",
    "\n",
    "$ \\mathbb{E}[\\max(1, X)] = \\frac{1}{\\sqrt{\\pi}} \\int_{-\\infty}^{\\infty} \\max(1, \\sqrt{2}t) \\cdot e^{-t^2} dt $\n",
    "\n",
    "Agora a integral está no formato apropriado para Gauss-Hermite. Avaliamos a função $f(t) = \\max(1, \\sqrt{2}t)$ nos nós $t_i$ fornecidos pela quadratura e ponderamos pelos pesos $w_i$, obtendo a aproximação:\n",
    "\n",
    "$ \\mathbb{E}[\\max(1, X)] \\approx \\frac{1}{\\sqrt{\\pi}} \\sum_{i=1}^{n} w_i \\cdot \\max(1, \\sqrt{2}t_i) $\n",
    "\n",
    "---\n",
    "\n",
    "#### Monte Carlo\n",
    "\n",
    "O método de Monte Carlo é mais direto: geramos $N$ amostras de $X \\sim \\mathcal{N}(0,1)$ e calculamos a média da função $\\max(1, X)$ sobre essas amostras:\n",
    "\n",
    "$ \\mathbb{E}[\\max(1, X)] \\approx \\frac{1}{N} \\sum_{i=1}^{N} \\max(1, x_i) $\n",
    "\n",
    "À medida que $N$ aumenta, a estimativa converge para o valor teórico graças à Lei dos Grandes Números.\n",
    "\n",
    "---\n",
    "\n",
    "####  Resultados\n",
    "\n",
    "####  Gauss-Hermite Quadrature:\n",
    "\n",
    "#### n = 3, E[max(1, X)] ≈ 1.1220084679281461\n",
    "\n",
    "#### n = 5, E[max(1, X)] ≈ 1.0998806870765288\n",
    "\n",
    "#### n = 10, E[max(1, X)] ≈ 1.0934755830123923\n",
    "\n",
    "#### Monte Carlo Estimation:\n",
    "\n",
    "#### N = 100, E[max(1, X)] ≈ 1.1155418134953896\n",
    "\n",
    "#### N = 10000, E[max(1, X)] ≈ 1.082764603825027\n",
    "\n",
    "#### N = 1000000, E[max(1, X)] ≈ 1.0834872351084592\n",
    "\n"
   ]
  },
  {
   "cell_type": "code",
   "execution_count": null,
   "metadata": {},
   "outputs": [
    {
     "name": "stdout",
     "output_type": "stream",
     "text": [
      "=== Gauss-Hermite Quadrature ===\n",
      "n = 3, E[max(1, X)] ≈ 1.1220084679281461\n",
      "n = 5, E[max(1, X)] ≈ 1.0998806870765288\n",
      "n = 10, E[max(1, X)] ≈ 1.0934755830123923\n",
      "\n",
      "=== Monte Carlo Estimation ===\n",
      "N = 100, E[max(1, X)] ≈ 1.1155418134953896\n",
      "N = 10000, E[max(1, X)] ≈ 1.082764603825027\n",
      "N = 1000000, E[max(1, X)] ≈ 1.0834872351084592\n"
     ]
    }
   ],
   "source": [
    "using FastGaussQuadrature, Statistics, Random, Distributions\n",
    "\n",
    "\n",
    "# 1) Gauss-Hermite Quadrature para E[max(1, X)]\n",
    "\n",
    "function gauss_hermite_Emax1(n)\n",
    "    # Nós (x) e pesos (w) para ∫ f(t) e^(-t^2) dt\n",
    "    x, w = gausshermite(n)\n",
    "    \n",
    "    # Avaliamos max(1, √2 * x_i) em cada nó e multiplicamos pelos pesos\n",
    "    valores = [max(1, sqrt(2)*xi) for xi in x]\n",
    "    \n",
    "    \n",
    "    return (1 / sqrt(pi)) * sum(w .* valores)\n",
    "end\n",
    "\n",
    "\n",
    "# 2) Monte Carlo para E[max(1, X)]\n",
    "\n",
    "function mc_Emax1(N)\n",
    "    # Gera N amostras de N(0,1)\n",
    "    samples = randn(N)\n",
    "    # Calcula a média de max(1, x_i)\n",
    "    return mean(max(1, x) for x in samples)\n",
    "end\n",
    "\n",
    "# Semente para reprodutibilidade\n",
    "Random.seed!(1234)\n",
    "\n",
    "println(\"=== Gauss-Hermite Quadrature ===\")\n",
    "for n in (3, 5, 10)\n",
    "    val = gauss_hermite_Emax1(n)\n",
    "    println(\"n = $n, E[max(1, X)] ≈ $val\")\n",
    "end\n",
    "\n",
    "println(\"\\n=== Monte Carlo Estimation ===\")\n",
    "for N in (10^2, 10^4, 10^6)\n",
    "    val = mc_Emax1(N)\n",
    "    println(\"N = $N, E[max(1, X)] ≈ $val\")\n",
    "end\n",
    "\n"
   ]
  },
  {
   "cell_type": "markdown",
   "metadata": {},
   "source": [
    "# QUESTION 2\n",
    "\n",
    "### 1. Using Gauss-Hermite quadrature, compute the expected value of $u$. \n",
    "\n",
    "### RESPOSTA DO ITEM 2.1:\n",
    "\n",
    "A forma mais direta de usar Gauss–Hermite em duas dimensões para E[max(X,Y)] (onde X e Y são N(0,1) independentes) é aproveitar que a densidade conjunta é $ \\frac{1}{2\\pi} \\exp\\left( -\\frac{x^2 + y^2}{2} \\right) $, e então aproximar a integral bidimensional via quadratura de Gauss–Hermite. \n",
    "\n",
    "\n",
    "A esperança que queremos é:\n",
    "\n",
    "$ E[\\max(X,Y)] = \\int_{-\\infty}^\\infty \\int_{-\\infty}^\\infty \\max(x,y) \\cdot \\frac{1}{2\\pi} \\exp\\left( -\\frac{x^2 + y^2}{2} \\right) dx\\,dy. $\n",
    "\n",
    "\n",
    "No problema 2D, a mudança de variável resulta em $x = \\sqrt{2}\\,u$ e $y = \\sqrt{2}\\,v$. Com essa mudança, temos:\n",
    "\n",
    "$ dx = \\sqrt{2}du \\quad \\Rightarrow \\quad dy = \\sqrt{2}dv $\n",
    "\n",
    "$ \\exp\\left(-\\frac{x^2 + y^2}{2} \\right) = \\exp\\left( -\\frac{2u^2 + 2v^2}{2} \\right) = \\exp(-u^2 - v^2) $\n",
    "\n",
    "\n",
    "Substituindo essas expressões na integral original, obtemos:\n",
    "\n",
    "\n",
    "$ \\frac{1}{\\pi} \\int_{-\\infty}^\\infty \\int_{-\\infty}^\\infty \\max(\\sqrt{2}u, \\sqrt{2}v) \\cdot e^{-u^2} e^{-v^2} du dv. $\n",
    "\n",
    "\n",
    "O resultado final é que, para aproximar $ \\iint \\frac{1}{2\\pi} \\exp\\left(-\\frac{x^2 + y^2}{2} \\right) f(x,y)\\,dx\\,dy, $ podemos usar:\n",
    "\n",
    "$ \\frac{1}{\\pi} \\sum_{i=1}^n \\sum_{j=1}^n w_i w_j f\\left( \\sqrt{2}x_i, \\sqrt{2}x_j \\right). $\n",
    "\n",
    "### No nosso caso, $f(x,y) = \\max(x,y)$ e encontramos 0.5640735841549794.\n",
    "\n",
    "\n",
    "\n",
    "\n",
    "\n",
    "\n",
    "\n",
    "\n",
    "\n",
    "\n",
    "\n",
    "\n",
    "\n"
   ]
  },
  {
   "cell_type": "code",
   "execution_count": 24,
   "metadata": {},
   "outputs": [
    {
     "name": "stdout",
     "output_type": "stream",
     "text": [
      "Ordem da quadratura = 2000\n",
      "Aproximação de E[max(X,Y)] = 0.5640735841549794\n",
      "Valor exato = 0.5641895835477563\n",
      "Erro absoluto ≈ 0.00011599939277684435\n"
     ]
    }
   ],
   "source": [
    "using FastGaussQuadrature\n",
    "\n",
    "\n",
    "function expected_max_gauss_hermite(n::Int)\n",
    "    # Nós e pesos para a quadratura Gauss–Hermite unidimensional\n",
    "    x, w = gausshermite(n)\n",
    "\n",
    "    # Soma bidimensional\n",
    "    s = 0.0\n",
    "    for i in 1:n\n",
    "        for j in 1:n\n",
    "            # max(sqrt(2)*x[i], sqrt(2)*x[j]) é a função f(x,y)\n",
    "            s += w[i] * w[j] * max( sqrt(2)*x[i], sqrt(2)*x[j] )\n",
    "        end\n",
    "    end\n",
    "\n",
    "   \n",
    "    return s / π\n",
    "end\n",
    "\n",
    "# Calcula a aproximação de E[max(X,Y)] com n = 20\n",
    "println(\"Ordem da quadratura = 2000\")\n",
    "val = expected_max_gauss_hermite(2000)\n",
    "println(\"Aproximação de E[max(X,Y)] = $val\")\n",
    "\n",
    "# Comparando com o valor analítico 1/sqrt(pi)\n",
    "println(\"Valor exato = \", 1/sqrt(π))\n",
    "println(\"Erro absoluto ≈ \", abs(val - 1/sqrt(π)))\n"
   ]
  },
  {
   "cell_type": "markdown",
   "metadata": {},
   "source": [
    "### 2. Using Monte Carlo integration, compute the expected value of $u$.\n",
    "\n",
    "### RESPOSTA DO ITEM 2.2:\n",
    "\n",
    "### Da mesma forma, o método de Monte Carlo aproxima o valor esperado conforme aumentamos o número de simulações e chegamos em:\n",
    "\n",
    "#### Estimativa Monte Carlo de E[max(X,Y)] com N = 1000000: 0.562641391343698"
   ]
  },
  {
   "cell_type": "code",
   "execution_count": 26,
   "metadata": {},
   "outputs": [
    {
     "name": "stdout",
     "output_type": "stream",
     "text": [
      "Estimativa Monte Carlo de E[max(X,Y)] com N = 1000000: 0.562641391343698\n",
      "Valor exato: 0.5641895835477563\n"
     ]
    }
   ],
   "source": [
    "using Random, Statistics, Distributions\n",
    "\n",
    "\n",
    "function monte_carlo_max_expectation(N::Int)\n",
    "    # Definindo a distribuição normal padrão\n",
    "    dist = Normal(0, 1)\n",
    "\n",
    "    # Gerando N amostras independentes de X e Y\n",
    "    X = rand(dist, N)\n",
    "    Y = rand(dist, N)\n",
    "\n",
    "    # Calculando max(x, y) para cada par (x, y)\n",
    "    max_vals = max.(X, Y)\n",
    "\n",
    "    # Retornando a média das máximas — estimativa de E[max(X,Y)]\n",
    "    return mean(max_vals)\n",
    "end\n",
    "\n",
    "\n",
    "N = 10^6  # número de simulações\n",
    "estimativa = monte_carlo_max_expectation(N)\n",
    "println(\"Estimativa Monte Carlo de E[max(X,Y)] com N = $N: $estimativa\")\n",
    "\n",
    "# Valor analítico \n",
    "println(\"Valor exato: \", 1 / sqrt(π))\n"
   ]
  },
  {
   "cell_type": "markdown",
   "metadata": {},
   "source": [
    "# QUESTION 3\n",
    "\n"
   ]
  },
  {
   "cell_type": "code",
   "execution_count": null,
   "metadata": {},
   "outputs": [],
   "source": [
    "\n",
    "# Função para aplicar a Regra do Trapézio\n",
    "# f: função a ser integrada\n",
    "# a, b: limites de integração\n",
    "# n: número de subintervalos (ou seja, usaremos n+1 pontos)\n",
    "# ---------------------------------------------------------\n",
    "function trapezio(f, a, b, n)\n",
    "    h = (b - a) / n                # tamanho de cada subintervalo\n",
    "    x = range(a, b, length = n+1)  # cria n+1 pontos igualmente espaçados\n",
    "    # Soma dos termos extremos\n",
    "    soma = f(x[1]) + f(x[end])\n",
    "    # Soma dos termos internos (cada um é multiplicado por 2 na fórmula)\n",
    "    for k in 2:n\n",
    "        soma += 2 * f(x[k])\n",
    "    end\n",
    "    # Multiplica por h/2 para obter a aproximação final\n",
    "    return (h/2) * soma\n",
    "end\n",
    "\n",
    "\n",
    "# Valores de n solicitados\n",
    "ns = [3, 5, 10, 15, 20]\n",
    "\n"
   ]
  },
  {
   "cell_type": "markdown",
   "metadata": {},
   "source": [
    "### a) $\\int_0^1 x \\, dx$  \n",
    "\n",
    "### RESPOSTA DO ITEM A:\n"
   ]
  },
  {
   "cell_type": "code",
   "execution_count": 31,
   "metadata": {},
   "outputs": [
    {
     "name": "stdout",
     "output_type": "stream",
     "text": [
      "Aproximação usando a Regra do Trapézio:\n",
      "\n",
      "--------------------------------------------------\n",
      " n = 3\n",
      " Integral de x                : 0.5    (Erro = 0.0)\n",
      "--------------------------------------------------\n",
      " n = 5\n",
      " Integral de x                : 0.5    (Erro = 0.0)\n",
      "--------------------------------------------------\n",
      " n = 10\n",
      " Integral de x                : 0.5    (Erro = 0.0)\n",
      "--------------------------------------------------\n",
      " n = 15\n",
      " Integral de x                : 0.5    (Erro = 0.0)\n",
      "--------------------------------------------------\n",
      " n = 20\n",
      " Integral de x                : 0.5    (Erro = 0.0)\n",
      "\n",
      "Valor exato:\n",
      "∫₀¹ x dx               = 0.5\n"
     ]
    }
   ],
   "source": [
    "# a) ∫₀¹ x dx = 1/2\n",
    "valor_exato_a = 0.5\n",
    "\n",
    "f_a(x) = x\n",
    "\n",
    "\n",
    "println(\"Aproximação usando a Regra do Trapézio:\\n\")\n",
    "for n in ns\n",
    "    # Calcula as aproximações\n",
    "    I_a = trapezio(f_a, 0, 1, n)\n",
    "   \n",
    "    \n",
    "    println(\"--------------------------------------------------\")\n",
    "    println(\" n = $n\")\n",
    "    println(\" Integral de x                : $I_a    (Erro = $(abs(I_a - valor_exato_a)))\")\n",
    "end\n",
    "\n",
    "println(\"\\nValor exato:\")\n",
    "println(\"∫₀¹ x dx               = $valor_exato_a\")\n",
    "\n",
    "\n"
   ]
  },
  {
   "cell_type": "markdown",
   "metadata": {},
   "source": [
    "### b) $\\int_0^1 x \\sin(x) \\, dx$  \n",
    "\n",
    "### RESPOSTA DO ITEM B:\n"
   ]
  },
  {
   "cell_type": "code",
   "execution_count": 32,
   "metadata": {},
   "outputs": [
    {
     "name": "stdout",
     "output_type": "stream",
     "text": [
      "Aproximação usando a Regra do Trapézio:\n",
      "\n",
      "--------------------------------------------------\n",
      " n = 3\n",
      " Integral de x*sin(x)         : 0.31401564223860784    (Erro = 0.0128469632988511)\n",
      "--------------------------------------------------\n",
      " n = 5\n",
      " Integral de x*sin(x)         : 0.30578141044861207    (Erro = 0.004612731508855328)\n",
      "--------------------------------------------------\n",
      " n = 10\n",
      " Integral de x*sin(x)         : 0.30232058249393656    (Erro = 0.0011519035541798228)\n",
      "--------------------------------------------------\n",
      " n = 15\n",
      " Integral de x*sin(x)         : 0.3016805309189573    (Erro = 0.0005118519792005616)\n",
      "--------------------------------------------------\n",
      " n = 20\n",
      " Integral de x*sin(x)         : 0.30145657498119877    (Erro = 0.0002878960414420262)\n",
      "\n",
      "Valor exato:\n",
      "∫₀¹ x*sin(x) dx        = 0.30116867893975674\n"
     ]
    }
   ],
   "source": [
    "# b) ∫₀¹ x sin(x) dx = -x cos(x) + sin(x) avaliado em 0 até 1 = sin(1) - cos(1)\n",
    "valor_exato_b = sin(1) - cos(1)\n",
    "\n",
    "\n",
    "f_b(x) = x * sin(x)\n",
    "\n",
    "\n",
    "println(\"Aproximação usando a Regra do Trapézio:\\n\")\n",
    "for n in ns\n",
    "    # Calcula a aproximação\n",
    "    I_b = trapezio(f_b, 0, 1, n)\n",
    "    \n",
    "    \n",
    "    println(\"--------------------------------------------------\")\n",
    "    println(\" n = $n\")\n",
    "    println(\" Integral de x*sin(x)         : $I_b    (Erro = $(abs(I_b - valor_exato_b)))\")\n",
    "end\n",
    "\n",
    "println(\"\\nValor exato:\")\n",
    "println(\"∫₀¹ x*sin(x) dx        = $valor_exato_b\")\n",
    "\n"
   ]
  },
  {
   "cell_type": "markdown",
   "metadata": {},
   "source": [
    "### c) $\\int_0^1 \\sqrt{1 - x^2} \\, dx$\n",
    "\n",
    "### RESPOSTA DO ITEM C:"
   ]
  },
  {
   "cell_type": "code",
   "execution_count": 33,
   "metadata": {},
   "outputs": [
    {
     "name": "stdout",
     "output_type": "stream",
     "text": [
      "Aproximação usando a Regra do Trapézio:\n",
      "\n",
      "--------------------------------------------------\n",
      " n = 3\n",
      " Integral de sqrt(1 - x^2)     : 0.7293883446939977    (Erro = 0.056009818703450565)\n",
      "--------------------------------------------------\n",
      " n = 5\n",
      " Integral de sqrt(1 - x^2)     : 0.7592622072208878    (Erro = 0.026135956176560504)\n",
      "--------------------------------------------------\n",
      " n = 10\n",
      " Integral de sqrt(1 - x^2)     : 0.7761295815620796    (Erro = 0.009268581835368717)\n",
      "--------------------------------------------------\n",
      " n = 15\n",
      " Integral de sqrt(1 - x^2)     : 0.7803478531188924    (Erro = 0.005050310278555847)\n",
      "--------------------------------------------------\n",
      " n = 20\n",
      " Integral de sqrt(1 - x^2)     : 0.7821162199387454    (Erro = 0.0032819434587029184)\n",
      "\n",
      "Valor exato:\n",
      "∫₀¹ sqrt(1 - x^2) dx   = 0.7853981633974483\n"
     ]
    }
   ],
   "source": [
    "# c) ∫₀¹ sqrt(1 - x^2) dx = π/4 (área de 1/4 de círculo de raio 1)\n",
    "valor_exato_c = pi/4\n",
    "\n",
    "f_c(x) = sqrt(1 - x^2)\n",
    "\n",
    "println(\"Aproximação usando a Regra do Trapézio:\\n\")\n",
    "for n in ns\n",
    "    # Calcula a aproximação\n",
    "    I_c = trapezio(f_c, 0, 1, n)\n",
    "    \n",
    "    println(\"--------------------------------------------------\")\n",
    "    println(\" n = $n\")\n",
    "    println(\" Integral de sqrt(1 - x^2)     : $I_c    (Erro = $(abs(I_c - valor_exato_c)))\")\n",
    "end\n",
    "\n",
    "println(\"\\nValor exato:\")\n",
    "println(\"∫₀¹ sqrt(1 - x^2) dx   = $valor_exato_c\")\n"
   ]
  },
  {
   "cell_type": "markdown",
   "metadata": {},
   "source": [
    "# QUESTION 4\n",
    "\n"
   ]
  },
  {
   "cell_type": "code",
   "execution_count": null,
   "metadata": {},
   "outputs": [],
   "source": [
    "###############################################################################\n",
    "# Bloco inicial: Definições gerais para evitar repetição\n",
    "###############################################################################\n",
    "\n",
    "# Funções de derivada numérica (Diferenças Finitas Centrais)\n",
    "deriv_central_2pts(f, x, h) = (f(x+h) - f(x-h)) / (2h)\n",
    "deriv_central_4pts(f, x, h) = (-f(x+2h) + 8*f(x+h) - 8*f(x-h) + f(x-2h)) / (12*h)\n",
    "\n",
    "# Funções f(x) para cada item\n",
    "fa(x) = x^2\n",
    "fb(x) = log(x)\n",
    "fc(x) = x*sin(x)\n",
    "\n",
    "# Derivadas analíticas exatas (nomes corrigidos!)\n",
    "dfa(x) = 2x\n",
    "dfb(x) = 1/x\n",
    "dfc(x) = sin(x) + x*cos(x)\n",
    "\n",
    "# Pontos e passos de h\n",
    "x_a = 5\n",
    "x_b = 10\n",
    "x_c = 1\n",
    "hs  = [0.001, 0.005, 0.01, 0.05]"
   ]
  },
  {
   "cell_type": "markdown",
   "metadata": {},
   "source": [
    "### a) $f(x) = x^2$ at $x = 5$  \n",
    "\n",
    "### RESPOSTA DO ITEM A:"
   ]
  },
  {
   "cell_type": "code",
   "execution_count": 44,
   "metadata": {},
   "outputs": [
    {
     "name": "stdout",
     "output_type": "stream",
     "text": [
      "------------------------------------------------------------\n",
      "Item (a): f(x) = x^2 em x = 5\n",
      "Derivada exata em x=5: f'(5) = 10\n",
      "\n",
      "  h = 0.001\n",
      "    2 pts: 10.00000000000334   | erro = 3.339550858072471e-12\n",
      "    4 pts: 10.000000000004524   | erro = 4.524380869952438e-12\n",
      "\n",
      "  h = 0.005\n",
      "    2 pts: 9.999999999999787   | erro = 2.1316282072803006e-13\n",
      "    4 pts: 9.999999999999787   | erro = 2.1316282072803006e-13\n",
      "\n",
      "  h = 0.01\n",
      "    2 pts: 9.999999999999787   | erro = 2.1316282072803006e-13\n",
      "    4 pts: 9.999999999999728   | erro = 2.717825964282383e-13\n",
      "\n",
      "  h = 0.05\n",
      "    2 pts: 9.999999999999964   | erro = 3.552713678800501e-14\n",
      "    4 pts: 9.999999999999975   | erro = 2.4868995751603507e-14\n",
      "\n"
     ]
    }
   ],
   "source": [
    "\n",
    "println(\"------------------------------------------------------------\")\n",
    "println(\"Item (a): f(x) = x^2 em x = 5\")\n",
    "println(\"Derivada exata em x=5: f'(5) = 10\\n\")\n",
    "for h in hs\n",
    "    approx_2 = deriv_central_2pts(fa, x_a, h)\n",
    "    approx_4 = deriv_central_4pts(fa, x_a, h)\n",
    "    err_2 = abs(approx_2 - dfa(x_a))\n",
    "    err_4 = abs(approx_4 - dfa(x_a))\n",
    "    println(\"  h = $h\")\n",
    "    println(\"    2 pts: $approx_2   | erro = $err_2\")\n",
    "    println(\"    4 pts: $approx_4   | erro = $err_4\\n\")\n",
    "end"
   ]
  },
  {
   "cell_type": "markdown",
   "metadata": {},
   "source": [
    "### b) $f(x) = \\log(x)$ at $x = 10$  \n",
    "\n",
    "### RESPOSTA DO ITEM B:"
   ]
  },
  {
   "cell_type": "code",
   "execution_count": 38,
   "metadata": {},
   "outputs": [
    {
     "name": "stdout",
     "output_type": "stream",
     "text": [
      "------------------------------------------------------------\n",
      "Item (b): f(x) = log(x) em x = 10\n",
      "Derivada exata em x=10: f'(10) = 0.1\n",
      "\n",
      "  h = 0.001\n",
      "    2 pts: 0.10000000033327794   | erro = 3.332779330289526e-10\n",
      "    4 pts: 0.09999999999984095   | erro = 1.590533260653615e-13\n",
      "\n",
      "  h = 0.005\n",
      "    2 pts: 0.10000000833332301   | erro = 8.333323003872906e-9\n",
      "    4 pts: 0.09999999999995939   | erro = 4.0620284913472915e-14\n",
      "\n",
      "  h = 0.01\n",
      "    2 pts: 0.10000003333334728   | erro = 3.333334727684267e-8\n",
      "    4 pts: 0.09999999999992608   | erro = 7.392697565222761e-14\n",
      "\n",
      "  h = 0.05\n",
      "    2 pts: 0.10000083334583465   | erro = 8.33345834644339e-7\n",
      "    4 pts: 0.09999999995000007   | erro = 4.999993474807951e-11\n",
      "\n"
     ]
    }
   ],
   "source": [
    "\n",
    "println(\"------------------------------------------------------------\")\n",
    "println(\"Item (b): f(x) = log(x) em x = 10\")\n",
    "println(\"Derivada exata em x=10: f'(10) = 0.1\\n\")\n",
    "for h in hs\n",
    "    approx_2 = deriv_central_2pts(fb, x_b, h)\n",
    "    approx_4 = deriv_central_4pts(fb, x_b, h)\n",
    "    err_2 = abs(approx_2 - dfb(x_b))\n",
    "    err_4 = abs(approx_4 - dfb(x_b))\n",
    "    println(\"  h = $h\")\n",
    "    println(\"    2 pts: $approx_2   | erro = $err_2\")\n",
    "    println(\"    4 pts: $approx_4   | erro = $err_4\\n\")\n",
    "end"
   ]
  },
  {
   "cell_type": "markdown",
   "metadata": {},
   "source": [
    "### c) $f(x) = x * \\sin(x)$ at $x = 1$  \n",
    "\n",
    "### RESPOSTA DO ITEM C:"
   ]
  },
  {
   "cell_type": "code",
   "execution_count": 41,
   "metadata": {},
   "outputs": [
    {
     "name": "stdout",
     "output_type": "stream",
     "text": [
      "------------------------------------------------------------\n",
      "Item (c): f(x) = x*sin(x) em x = 1\n",
      "Derivada exata em x=1: f'(1) = sin(1) + cos(1)\n",
      "\n",
      "  h = 0.001\n",
      "    2 pts: 1.3817727798901003   | erro = 5.107859359920752e-7\n",
      "    4 pts: 1.3817732906757085   | erro = 3.277378368693462e-13\n",
      "\n",
      "  h = 0.005\n",
      "    2 pts: 1.3817605210538209   | erro = 1.276962221541389e-5\n",
      "    4 pts: 1.3817732905770894   | erro = 9.894685071287768e-11\n",
      "\n",
      "  h = 0.01\n",
      "    2 pts: 1.381722212483999   | erro = 5.1078192037312675e-5\n",
      "    4 pts: 1.3817732890935066   | erro = 1.5825296628690921e-9\n",
      "\n",
      "  h = 0.05\n",
      "    2 pts: 1.380496573238128   | erro = 0.001276717437908248\n",
      "    4 pts: 1.3817723019794308   | erro = 9.8869660547507e-7\n",
      "\n"
     ]
    }
   ],
   "source": [
    "\n",
    "println(\"------------------------------------------------------------\")\n",
    "println(\"Item (c): f(x) = x*sin(x) em x = 1\")\n",
    "println(\"Derivada exata em x=1: f'(1) = sin(1) + cos(1)\\n\")\n",
    "for h in hs\n",
    "    approx_2 = deriv_central_2pts(fc, x_c, h)\n",
    "    approx_4 = deriv_central_4pts(fc, x_c, h)\n",
    "    err_2 = abs(approx_2 - dfc(x_c))\n",
    "    err_4 = abs(approx_4 - dfc(x_c))\n",
    "    println(\"  h = $h\")\n",
    "    println(\"    2 pts: $approx_2   | erro = $err_2\")\n",
    "    println(\"    4 pts: $approx_4   | erro = $err_4\\n\")\n",
    "end"
   ]
  },
  {
   "cell_type": "markdown",
   "metadata": {},
   "source": [
    "### d) How do your results compare with the analytical solution?\n",
    "\n",
    "### RESPOSTA DO ITEM D:\n",
    "\n",
    "\n",
    "Ao aproximar derivadas por diferenças finitas, o **erro total** resulta da soma de duas fontes conflitantes:\n",
    "\n",
    "\n",
    "- **$h$ pequeno**: melhora a aproximação teórica (reduz truncamento), mas **piora a estabilidade numérica** (erro de arredondamento).\n",
    "- **$h$ grande**: reduz o cancelamento numérico, mas aumenta o erro de truncamento.\n",
    "\n",
    "#### **Item (a): $f(x) = x^2$ em $x = 5$**\n",
    "- Os erros são extremamente baixos mesmo com $h = 0.05$, tanto para 2 quanto para 4 pontos.\n",
    "- Isso confirma que, para funções polinomiais simples, as fórmulas de diferença central **já são exatas**, e o erro numérico é dominado pelo arredondamento.\n",
    "\n",
    "#### **Item (b): $f(x) = \\log(x)$ em $x = 10$**\n",
    "- Aqui a natureza da função traz mais sensibilidade a erros de arredondamento, principalmente para $h$ muito pequeno.\n",
    "- O **erro de 4 pontos com $h = 0.005$ foi menor que com $h = 0.001$**, revelando o ponto ótimo entre truncamento e cancelamento.\n",
    "- Isso ilustra bem a observação de que **usar um $h$ *pequeno demais* pode ser pior** que um valor moderado como 0.005.\n",
    "\n",
    "#### **Item (c): $f(x) = x\\sin(x)$ em $x = 1$**\n",
    "\n",
    "- Para 4 pontos, o erro se manteve extremamente baixo mesmo para $h$ maiores, indicando robustez.\n",
    "- Para 2 pontos, o erro cresceu com $h$, como esperado — pois o truncamento domina.\n"
   ]
  }
 ],
 "metadata": {
  "kernelspec": {
   "display_name": "Julia 1.11.3",
   "language": "julia",
   "name": "julia-1.11"
  },
  "language_info": {
   "file_extension": ".jl",
   "mimetype": "application/julia",
   "name": "julia",
   "version": "1.11.3"
  }
 },
 "nbformat": 4,
 "nbformat_minor": 2
}
